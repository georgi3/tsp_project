{
 "cells": [
  {
   "cell_type": "code",
   "execution_count": 53,
   "id": "4510ea19-c07d-4fb4-b38f-4358a11c361c",
   "metadata": {
    "pycharm": {
     "name": "#%%\n"
    }
   },
   "outputs": [],
   "source": [
    "from db_handler import *\n",
    "from api_handler import *\n",
    "from config import *\n",
    "from pandas import DataFrame\n",
    "import json"
   ]
  },
  {
   "cell_type": "code",
   "execution_count": 54,
   "id": "7075c769-e0f5-4bcc-9179-fa3c6d886fef",
   "metadata": {
    "pycharm": {
     "name": "#%%\n"
    }
   },
   "outputs": [],
   "source": [
    "connection_yelp = create_connection(\"./data/yelp_coctail_spots.sqlite\")\n",
    "connection_fsq = create_connection('./data/coctail_spots_old_port.sqlite')"
   ]
  },
  {
   "cell_type": "code",
   "execution_count": 55,
   "id": "5d35af39-b1ee-4f01-a067-d1d3d60d4c1d",
   "metadata": {
    "pycharm": {
     "name": "#%%\n"
    }
   },
   "outputs": [],
   "source": [
    "select_coctail_spots_yelp = \"SELECT * from yelp_coctail_spots\"\n",
    "coctail_spots_yelp = execute_read_query(connection_yelp, select_coctail_spots_yelp)"
   ]
  },
  {
   "cell_type": "code",
   "execution_count": 56,
   "id": "18f2fd60-83aa-448d-89bd-8b778abfc761",
   "metadata": {
    "pycharm": {
     "name": "#%%\n"
    }
   },
   "outputs": [],
   "source": [
    "select_coctail_spots_fsq = 'SELECT * FROM coctail_spots_old_port'\n",
    "coctail_spots_fsq = execute_read_query(connection_fsq, select_coctail_spots_fsq)"
   ]
  },
  {
   "cell_type": "code",
   "execution_count": 57,
   "id": "b289ccc7-e0a9-4961-9d04-b8598ea878ec",
   "metadata": {
    "pycharm": {
     "name": "#%%\n"
    }
   },
   "outputs": [],
   "source": [
    "yelp_data = DataFrame(coctail_spots_yelp, \n",
    "                  columns=['PKID','id', 'name', 'rating', 'review_count', 'url', 'location'])"
   ]
  },
  {
   "cell_type": "code",
   "execution_count": 58,
   "id": "334f1aba-89b0-41ef-8611-8039bc1ff5df",
   "metadata": {
    "pycharm": {
     "name": "#%%\n"
    }
   },
   "outputs": [],
   "source": [
    "fsq_data = DataFrame(coctail_spots_fsq, columns=['PKID','fsq_id', 'name', 'popularity', 'rating',\n",
    "                           'website', 'location', 'total_ratings'])"
   ]
  },
  {
   "cell_type": "code",
   "execution_count": 59,
   "id": "b2cf5bf0-daf6-4d5e-a50e-7010a1c7dfb9",
   "metadata": {
    "pycharm": {
     "name": "#%%\n"
    }
   },
   "outputs": [],
   "source": [
    "sorted_yelp = yelp_data.sort_values('rating', ascending=False)\n",
    "sorted_fsq = fsq_data.sort_values('rating', ascending=False)"
   ]
  },
  {
   "cell_type": "code",
   "execution_count": 60,
   "id": "c1b24597-ea96-4056-80a2-a138856275fe",
   "metadata": {
    "pycharm": {
     "name": "#%%\n"
    }
   },
   "outputs": [],
   "source": [
    "poi_yelp = sorted_yelp.head(10)\n",
    "poi_fsq = sorted_fsq.head(10)"
   ]
  },
  {
   "cell_type": "code",
   "execution_count": 61,
   "id": "96d3f77a-d01b-4e84-9ab0-80d5bb4595fc",
   "metadata": {
    "pycharm": {
     "name": "#%%\n"
    }
   },
   "outputs": [],
   "source": [
    "name_loc_yelp = poi_yelp[['name', 'location']]"
   ]
  },
  {
   "cell_type": "code",
   "execution_count": 62,
   "id": "301a5ec2-85c1-454f-8423-05eea96732b2",
   "metadata": {
    "pycharm": {
     "name": "#%%\n"
    }
   },
   "outputs": [],
   "source": [
    "name_loc_fsq = poi_fsq[['name', 'location']]"
   ]
  },
  {
   "cell_type": "code",
   "execution_count": 63,
   "id": "4a64c7cd-4e5d-43da-8cda-044236403b94",
   "metadata": {
    "pycharm": {
     "name": "#%%\n"
    }
   },
   "outputs": [],
   "source": [
    "cartesian_fsq = name_loc_fsq.merge(name_loc_fsq, how='cross')\n",
    "cartesian_yelp = name_loc_yelp.merge(name_loc_yelp, how='cross')"
   ]
  },
  {
   "cell_type": "code",
   "execution_count": 64,
   "id": "40f80d39-2516-47cc-9e59-e43ad98ca117",
   "metadata": {
    "pycharm": {
     "name": "#%%\n"
    }
   },
   "outputs": [],
   "source": [
    "params_tuple_fsq = [({\n",
    "        'origin': row['location_x'],\n",
    "        'destination': row['location_y'],\n",
    "        'mode': 'walking',\n",
    "        'key': GOOGLE_API_KEY},\n",
    "        (row['name_x'], row['name_y']))\n",
    "            for index, row in cartesian_fsq.iterrows()]\n",
    "\n",
    "params_tuple_yelp = [({\n",
    "        'origin': row['location_x'],\n",
    "        'destination': row['location_y'],\n",
    "        'mode': 'walking',\n",
    "        'key': GOOGLE_API_KEY},\n",
    "        (row['name_x'], row['name_y']))\n",
    "            for index, row in cartesian_yelp.iterrows()]"
   ]
  },
  {
   "cell_type": "code",
   "execution_count": 65,
   "id": "bea20ca6-e0f7-4ef7-84cb-19fd6473527a",
   "metadata": {
    "pycharm": {
     "name": "#%%\n"
    }
   },
   "outputs": [],
   "source": [
    "def travel_time(params):\n",
    "    url = \"https://maps.googleapis.com/maps/api/directions/json?\"\n",
    "    headers = {\n",
    "        'Access': 'application/json',\n",
    "    }\n",
    "    travel_times = [(tup[1], \n",
    "                     get_req(url=url, params=tup[0], headers=headers).get('routes')[0].get('legs')[0].get('duration').get('value'))\n",
    "                   for tup in params]\n",
    "    return travel_times\n",
    "    "
   ]
  },
  {
   "cell_type": "code",
   "execution_count": 66,
   "id": "7091166f-6a89-453e-ab6d-1c4abdca6963",
   "metadata": {
    "pycharm": {
     "name": "#%%\n"
    }
   },
   "outputs": [],
   "source": [
    "travel_fsq = travel_time(params_tuple_fsq)"
   ]
  },
  {
   "cell_type": "code",
   "execution_count": 67,
   "id": "f4582fd5-117f-4536-89a7-1bc232dfe197",
   "metadata": {
    "tags": [],
    "pycharm": {
     "name": "#%%\n"
    }
   },
   "outputs": [],
   "source": [
    "travel_yelp = travel_time(params_tuple_yelp)"
   ]
  },
  {
   "cell_type": "code",
   "execution_count": 68,
   "id": "4cd0d2d1-6e0a-41ff-917a-063a9dcea3d6",
   "metadata": {
    "pycharm": {
     "name": "#%%\n"
    }
   },
   "outputs": [],
   "source": [
    "travel_map_yelp = list(enumerate([travel_yelp[i][0][0] for i in range(0, 100, 10)]))"
   ]
  },
  {
   "cell_type": "code",
   "execution_count": 69,
   "id": "bcabe633-9a5b-4330-b716-13db50e8914c",
   "metadata": {
    "pycharm": {
     "name": "#%%\n"
    }
   },
   "outputs": [],
   "source": [
    "travel_map_fsq = list(enumerate([travel_fsq[i][0][0] for i in range(0, 100, 10)]))"
   ]
  },
  {
   "cell_type": "code",
   "execution_count": 70,
   "id": "b31f6632-ca74-4ead-8695-6fe0a2df4e2d",
   "metadata": {
    "pycharm": {
     "name": "#%%\n"
    }
   },
   "outputs": [],
   "source": [
    "distance_list_fsq = [city[1] for city in travel_fsq]\n",
    "distance_list_yelp = [city[1] for city in travel_yelp]"
   ]
  },
  {
   "cell_type": "code",
   "execution_count": 111,
   "id": "98f763f8-8c31-4752-b79f-3d704120ace9",
   "metadata": {
    "pycharm": {
     "name": "#%%\n"
    }
   },
   "outputs": [],
   "source": [
    "def make_matrix(ordered_travel_distances):\n",
    "    matrix = []\n",
    "    for i in range(10):\n",
    "        temp = [ordered_travel_distances[int(str(i) + str(j))] for j in range(10)]\n",
    "        matrix.append(temp)\n",
    "    return matrix"
   ]
  },
  {
   "cell_type": "code",
   "execution_count": 112,
   "id": "c7283285-6c5c-4f4b-a9fd-ab881f7240f7",
   "metadata": {
    "pycharm": {
     "name": "#%%\n"
    }
   },
   "outputs": [],
   "source": [
    "# fsq_matrix = make_matrix(distance_list_fsq)\n",
    "# yelp_matrix = make_matrix(distance_list_yelp)"
   ]
  },
  {
   "cell_type": "code",
   "execution_count": 113,
   "id": "0a0c3af2-45ec-4f00-9188-a187b80f34db",
   "metadata": {
    "pycharm": {
     "name": "#%%\n"
    }
   },
   "outputs": [],
   "source": [
    "# fsq_matrix"
   ]
  },
  {
   "cell_type": "code",
   "execution_count": 114,
   "id": "cb6e6f03-ed26-4983-b828-4d13b09ec159",
   "metadata": {
    "pycharm": {
     "name": "#%%\n"
    }
   },
   "outputs": [],
   "source": [
    "# yelp_matrix"
   ]
  },
  {
   "cell_type": "code",
   "execution_count": 115,
   "id": "7e574a00-2cbe-49bc-bdf6-f2181257f822",
   "metadata": {
    "pycharm": {
     "name": "#%%\n"
    }
   },
   "outputs": [],
   "source": [
    "map_fsq = [travel_fsq[i][0][0] for i in range(0, 100, 10)]\n",
    "map_yelp = [travel_yelp[i][0][0] for i in range(0, 100, 10)]"
   ]
  },
  {
   "cell_type": "code",
   "execution_count": 116,
   "id": "4e5f37b2-a89d-47c7-8c7a-b776be2cdea3",
   "metadata": {
    "pycharm": {
     "name": "#%%\n"
    }
   },
   "outputs": [],
   "source": [
    "def create_data_model(ordered_travel_distances):\n",
    "    \"\"\"Stores the data for the problem.\"\"\"\n",
    "    data = {}\n",
    "    data['distance_matrix'] = make_matrix(ordered_travel_distances)\n",
    "    data['num_vehicles'] = 1\n",
    "    data['depot'] = 0\n",
    "    return data"
   ]
  },
  {
   "cell_type": "code",
   "execution_count": 117,
   "id": "1d34fa88-e76c-4a87-b4b2-995c01f1d970",
   "metadata": {
    "pycharm": {
     "name": "#%%\n"
    }
   },
   "outputs": [],
   "source": [
    "model_fsq = create_data_model(distance_list_fsq)  \n",
    "model_yelp = create_data_model(distance_list_yelp)"
   ]
  },
  {
   "cell_type": "code",
   "execution_count": 118,
   "id": "45b291aa-8f8d-4750-a62f-bfd3c7c5bd64",
   "metadata": {
    "pycharm": {
     "name": "#%%\n"
    }
   },
   "outputs": [],
   "source": [
    "model_fsq_json = json.dumps(model_fsq, indent=4)"
   ]
  },
  {
   "cell_type": "code",
   "execution_count": 79,
   "id": "821e5560-c73e-485b-b711-5e1939c3f67d",
   "metadata": {
    "pycharm": {
     "name": "#%%\n"
    }
   },
   "outputs": [],
   "source": [
    "model_yelp_json = json.dumps(model_yelp, indent=4)"
   ]
  },
  {
   "cell_type": "markdown",
   "source": [
    "### Saving Models to JSON"
   ],
   "metadata": {
    "collapsed": false,
    "pycharm": {
     "name": "#%% md\n"
    }
   }
  },
  {
   "cell_type": "code",
   "execution_count": 50,
   "id": "9cdfcdc4-e8fb-4469-bbe7-c8a57a1227f1",
   "metadata": {
    "pycharm": {
     "name": "#%%\n"
    }
   },
   "outputs": [],
   "source": [
    "with open('./data/model_fsq.json', 'w') as f:\n",
    "    f.write(model_fsq_json)"
   ]
  },
  {
   "cell_type": "code",
   "execution_count": 51,
   "id": "779af998-0560-42ba-a892-ad987684dc8a",
   "metadata": {
    "pycharm": {
     "name": "#%%\n"
    }
   },
   "outputs": [],
   "source": [
    "with open('././data/model_yelp.json', 'w') as f:\n",
    "    f.write(model_fsq_json)"
   ]
  },
  {
   "cell_type": "code",
   "execution_count": 45,
   "id": "15971236-c942-4e7c-8769-bc1174fc29cf",
   "metadata": {
    "pycharm": {
     "name": "#%%\n"
    }
   },
   "outputs": [],
   "source": [
    "with open('./data/model_yelp.json', 'r') as f:\n",
    "    model_yelp = json.load(f)"
   ]
  },
  {
   "cell_type": "code",
   "execution_count": 46,
   "outputs": [],
   "source": [
    "with open('./data/model_fsq.json', 'r') as f:\n",
    "    model_fsq = json.load(f)"
   ],
   "metadata": {
    "collapsed": false,
    "pycharm": {
     "name": "#%%\n"
    }
   }
  },
  {
   "cell_type": "markdown",
   "id": "c8a53503-8170-41d3-815e-56ba8475c4cd",
   "metadata": {
    "pycharm": {
     "name": "#%% md\n"
    }
   },
   "source": [
    "# Calculating Traveller Salesperson Problem"
   ]
  },
  {
   "cell_type": "code",
   "execution_count": 119,
   "id": "c56df339-eb5c-48a2-a99b-36b7babcb274",
   "metadata": {
    "tags": [],
    "pycharm": {
     "name": "#%%\n"
    }
   },
   "outputs": [],
   "source": [
    "from itertools import permutations\n",
    "from sys import maxsize"
   ]
  },
  {
   "cell_type": "code",
   "execution_count": 120,
   "id": "db9a00e1-fcd9-41fc-9b8e-bd1518f502ed",
   "metadata": {
    "pycharm": {
     "name": "#%%\n"
    }
   },
   "outputs": [],
   "source": [
    "maxsize = maxsize"
   ]
  },
  {
   "cell_type": "code",
   "execution_count": 121,
   "id": "2143eae1-849f-4b02-9b25-df437387241b",
   "metadata": {
    "pycharm": {
     "name": "#%%\n"
    }
   },
   "outputs": [],
   "source": [
    "CITIES = 10"
   ]
  },
  {
   "cell_type": "code",
   "execution_count": 122,
   "id": "55de66b7-fc7e-4df1-8e1d-28eceeb3cdec",
   "metadata": {
    "pycharm": {
     "name": "#%%\n"
    }
   },
   "outputs": [],
   "source": [
    "def travelling_salesman_person(matrix, source):\n",
    "    path = []\n",
    "    vertex = [i for i in range(CITIES)]\n",
    "\n",
    "    min_path = maxsize\n",
    "    next_permutation = permutations(vertex)\n",
    "    for perm in next_permutation:\n",
    "        # for v in vertex:\n",
    "            current_path_weight = 0\n",
    "            k = source\n",
    "            cur_path = []\n",
    "            for j in perm:\n",
    "                current_path_weight += matrix[k][j]\n",
    "                cur_path.append((k, j))\n",
    "                k = j\n",
    "            current_path_weight += matrix[k][source]\n",
    "            if current_path_weight < min_path:\n",
    "                min_path = current_path_weight\n",
    "                path = cur_path\n",
    "\n",
    "    return min_path, path"
   ]
  },
  {
   "cell_type": "code",
   "execution_count": 123,
   "id": "d6282f7b-6241-4a6b-9ed7-61baad319df9",
   "metadata": {
    "pycharm": {
     "name": "#%%\n"
    }
   },
   "outputs": [],
   "source": [
    "shortest_fsq = travelling_salesman_person(model_fsq['distance_matrix'], 3)"
   ]
  },
  {
   "cell_type": "code",
   "execution_count": 125,
   "id": "ac7bc737-a59f-42c5-8db8-01b1ab3e84ce",
   "metadata": {
    "pycharm": {
     "name": "#%%\n"
    }
   },
   "outputs": [],
   "source": [
    "# shortest_fsq"
   ]
  },
  {
   "cell_type": "code",
   "execution_count": 86,
   "id": "8a03e2c1-76c4-4d76-9c2f-7168ab050152",
   "metadata": {
    "pycharm": {
     "name": "#%%\n"
    }
   },
   "outputs": [],
   "source": [
    "shortest_yelp = travelling_salesman_person(model_yelp['distance_matrix'], 4)"
   ]
  },
  {
   "cell_type": "code",
   "execution_count": 108,
   "id": "3f7b4b29-6fb3-4a04-916f-820ea7f2daea",
   "metadata": {
    "pycharm": {
     "name": "#%%\n"
    }
   },
   "outputs": [],
   "source": [
    "# shortest_yelp"
   ]
  },
  {
   "cell_type": "code",
   "execution_count": 88,
   "id": "4f98a848-451b-4f15-90ea-26f897da9e56",
   "metadata": {
    "pycharm": {
     "name": "#%%\n"
    }
   },
   "outputs": [],
   "source": [
    "travel_path_fsq = [map_fsq[route[0]] for route in shortest_fsq[1]]"
   ]
  },
  {
   "cell_type": "code",
   "execution_count": 89,
   "id": "2eb7b1cc-36f9-4ce3-bd43-392395319838",
   "metadata": {
    "pycharm": {
     "name": "#%%\n"
    }
   },
   "outputs": [],
   "source": [
    "travel_path_yelp = [map_yelp[route[0]] for route in shortest_yelp[1]]"
   ]
  },
  {
   "cell_type": "code",
   "execution_count": 90,
   "id": "678df5ff-e702-4d4a-8efe-f2722e7653b6",
   "metadata": {
    "pycharm": {
     "name": "#%%\n"
    }
   },
   "outputs": [],
   "source": [
    "path_fsq = '  >>>  '.join(travel_path_fsq)"
   ]
  },
  {
   "cell_type": "code",
   "execution_count": 91,
   "id": "e9512f39-36ff-4434-ac33-fe12d4ec0df0",
   "metadata": {
    "pycharm": {
     "name": "#%%\n"
    }
   },
   "outputs": [],
   "source": [
    "path_yelp = ' >>>  '.join(travel_path_yelp)"
   ]
  },
  {
   "cell_type": "code",
   "execution_count": 92,
   "id": "cc83f787-939d-40a3-85b6-77860b9acccc",
   "metadata": {
    "pycharm": {
     "name": "#%%\n"
    }
   },
   "outputs": [
    {
     "data": {
      "text/plain": "\"Club Pelicano  >>>  Bar le Mal Nécessaire  >>>  Lab Quartier des Spectacles  >>>  Cafe Equitasse  >>>  El Pequeno Bar  >>>  Boho  >>>  L'Assommoir Notre-Dame  >>>  Bob's Cafe  >>>  Bord'Elle  >>>  Aruba\""
     },
     "execution_count": 92,
     "metadata": {},
     "output_type": "execute_result"
    }
   ],
   "source": [
    "path_fsq"
   ]
  },
  {
   "cell_type": "code",
   "execution_count": 93,
   "id": "ffd90a92-4034-4869-afbd-14f8cc6f99e6",
   "metadata": {
    "pycharm": {
     "name": "#%%\n"
    }
   },
   "outputs": [
    {
     "data": {
      "text/plain": "'La Croisette >>>  Terrasse des Sucres >>>  Buvette Pastek >>>  Barroco >>>  Le Speakeasy >>>  Terrasse W >>>  Notkins >>>  The Coldroom >>>  El Pequeño Bar >>>  Pincette'"
     },
     "execution_count": 93,
     "metadata": {},
     "output_type": "execute_result"
    }
   ],
   "source": [
    "path_yelp"
   ]
  }
 ],
 "metadata": {
  "kernelspec": {
   "display_name": "regular",
   "language": "python",
   "name": "regular"
  },
  "language_info": {
   "codemirror_mode": {
    "name": "ipython",
    "version": 3
   },
   "file_extension": ".py",
   "mimetype": "text/x-python",
   "name": "python",
   "nbconvert_exporter": "python",
   "pygments_lexer": "ipython3",
   "version": "3.9.12"
  }
 },
 "nbformat": 4,
 "nbformat_minor": 5
}