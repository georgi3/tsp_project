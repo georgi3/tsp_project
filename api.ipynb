{
 "cells": [
  {
   "cell_type": "code",
   "execution_count": 1,
   "id": "086f5e4e-cbd8-4ec0-a5d5-84cb47dcd339",
   "metadata": {},
   "outputs": [],
   "source": [
    "import nbimporter\n",
    "import config\n",
    "import requests\n",
    "import json\n",
    "import os\n",
    "import pandas as pd"
   ]
  },
  {
   "cell_type": "code",
   "execution_count": 2,
   "id": "6869630a-c70a-4404-b17b-06a609ee5304",
   "metadata": {},
   "outputs": [],
   "source": [
    "FSQ_API_KEY = os.environ['FOURSQUARE_API_KEY']\n",
    "YELP_API_KEY = os.environ['YELP_API_KEY']\n",
    "# GOOGLE_API_KEY = os.environ['']\n",
    "NE = '45.693164,-73.489801'\n",
    "SW = '45.433221,-73.898889'\n",
    "CATEGORY = '13387'\n",
    "AIM_AREA = NE, SW  # Downtown, MONTREAL\n",
    "POI_RICH_DATA_FSQ = 'fsq_id,name,location,website,rating,stats,popularity'\n"
   ]
  },
  {
   "cell_type": "code",
   "execution_count": 5,
   "id": "97d91b3d-9162-44ca-bbfb-696159610d04",
   "metadata": {},
   "outputs": [],
   "source": [
    "def get_req(url, params, key):\n",
    "    headers = {\n",
    "        'Access': 'application/json',\n",
    "        'Authorization': key,\n",
    "    }\n",
    "    response = requests.get(url=url, params=params, headers=headers)\n",
    "    if response:\n",
    "        return response.json()\n",
    "    else:\n",
    "        return response"
   ]
  },
  {
   "cell_type": "code",
   "execution_count": 27,
   "id": "5c751917-2d7c-4261-8768-ad6ccb874550",
   "metadata": {},
   "outputs": [],
   "source": [
    "params = {\n",
    "    'ne': NE,\n",
    "    'sw': SW,\n",
    "    'categories': CATEGORY,\n",
    "    'limit': '50',\n",
    "    'sort': 'RATING' \n",
    "}\n",
    "url = 'https://api.foursquare.com/v3/places/search?'"
   ]
  },
  {
   "cell_type": "code",
   "execution_count": 28,
   "id": "16dee864-0fb8-4e2a-a6a2-1b4b8f0aba02",
   "metadata": {},
   "outputs": [],
   "source": [
    "response = get_req(url, params, FSQ_API_KEY)"
   ]
  },
  {
   "cell_type": "code",
   "execution_count": null,
   "id": "fecec5f4-5842-4cb8-81c3-fa6371d7ac5c",
   "metadata": {},
   "outputs": [],
   "source": []
  },
  {
   "cell_type": "code",
   "execution_count": 31,
   "id": "b8c79007-c6e5-4cb4-b642-e9f906f64a75",
   "metadata": {},
   "outputs": [
    {
     "data": {
      "text/plain": [
       "'4cec2a8af9916dcbf1f56a35'"
      ]
     },
     "execution_count": 31,
     "metadata": {},
     "output_type": "execute_result"
    }
   ],
   "source": [
    "fsq_ids_fsq = [result['fsq_id'] for result in response['results']]\n",
    "fsq_ids_fsq[0]"
   ]
  },
  {
   "cell_type": "markdown",
   "id": "03f322d0-ede1-4edc-b5bc-449359372ab6",
   "metadata": {},
   "source": [
    "### Loop through fsq_ids_fsqs => creates a list of json responses => pass to json_normalize and its beatiful\n",
    "##### Question: should we be creating database first or pandas and then database"
   ]
  },
  {
   "cell_type": "code",
   "execution_count": 7,
   "id": "3cdb5b2d-1046-4faa-b7b0-52eb8126c818",
   "metadata": {},
   "outputs": [],
   "source": [
    "params = {\n",
    "    'fields': POI_RICH_DATA_FSQ\n",
    "}\n",
    "# url = f\"https://api.foursquare.com/v3/places/{fsq_ids_fsq[0]}\"\n",
    "url = f\"https://api.foursquare.com/v3/places/4cec2a8af9916dcbf1f56a35\""
   ]
  },
  {
   "cell_type": "code",
   "execution_count": 8,
   "id": "a852660f-2545-4573-aaab-0dbd3cfc6d6c",
   "metadata": {},
   "outputs": [],
   "source": [
    "response = get_req(url, params, FSQ_API_KEY)"
   ]
  },
  {
   "cell_type": "code",
   "execution_count": 14,
   "id": "f407a0b1-111b-4850-addc-2053a2a2b568",
   "metadata": {},
   "outputs": [],
   "source": [
    "r = [response, response, response]"
   ]
  },
  {
   "cell_type": "code",
   "execution_count": 11,
   "id": "8fe0798f-141f-468e-bfbd-4629c1ae9a26",
   "metadata": {},
   "outputs": [],
   "source": [
    "# data = pd.json_normalize(r)"
   ]
  },
  {
   "cell_type": "code",
   "execution_count": 78,
   "id": "e43e4c2f-5de9-4bec-b7c4-bfbf3865c638",
   "metadata": {},
   "outputs": [
    {
     "data": {
      "text/html": [
       "<div>\n",
       "<style scoped>\n",
       "    .dataframe tbody tr th:only-of-type {\n",
       "        vertical-align: middle;\n",
       "    }\n",
       "\n",
       "    .dataframe tbody tr th {\n",
       "        vertical-align: top;\n",
       "    }\n",
       "\n",
       "    .dataframe thead th {\n",
       "        text-align: right;\n",
       "    }\n",
       "</style>\n",
       "<table border=\"1\" class=\"dataframe\">\n",
       "  <thead>\n",
       "    <tr style=\"text-align: right;\">\n",
       "      <th></th>\n",
       "      <th>fsq_id</th>\n",
       "      <th>name</th>\n",
       "      <th>popularity</th>\n",
       "      <th>rating</th>\n",
       "      <th>verified</th>\n",
       "      <th>website</th>\n",
       "      <th>location.address</th>\n",
       "      <th>location.country</th>\n",
       "      <th>location.cross_street</th>\n",
       "      <th>location.formatted_address</th>\n",
       "      <th>location.locality</th>\n",
       "      <th>location.neighborhood</th>\n",
       "      <th>location.postcode</th>\n",
       "      <th>location.region</th>\n",
       "      <th>stats.total_photos</th>\n",
       "      <th>stats.total_ratings</th>\n",
       "      <th>stats.total_tips</th>\n",
       "    </tr>\n",
       "  </thead>\n",
       "  <tbody>\n",
       "    <tr>\n",
       "      <th>0</th>\n",
       "      <td>4cec2a8af9916dcbf1f56a35</td>\n",
       "      <td>Château Taillefer Lafon</td>\n",
       "      <td>0.969886</td>\n",
       "      <td>8.3</td>\n",
       "      <td>False</td>\n",
       "      <td>http://www.chateautailleferlafon.ca/</td>\n",
       "      <td>1500 Champagne Montee</td>\n",
       "      <td>CA</td>\n",
       "      <td></td>\n",
       "      <td>1500 Champagne Montee, Laval QC H7X 4H9</td>\n",
       "      <td>Laval</td>\n",
       "      <td>[L'Orée des Bois]</td>\n",
       "      <td>H7X 4H9</td>\n",
       "      <td>QC</td>\n",
       "      <td>17</td>\n",
       "      <td>12</td>\n",
       "      <td>2</td>\n",
       "    </tr>\n",
       "    <tr>\n",
       "      <th>1</th>\n",
       "      <td>4cec2a8af9916dcbf1f56a35</td>\n",
       "      <td>Château Taillefer Lafon</td>\n",
       "      <td>0.969886</td>\n",
       "      <td>8.3</td>\n",
       "      <td>False</td>\n",
       "      <td>http://www.chateautailleferlafon.ca/</td>\n",
       "      <td>1500 Champagne Montee</td>\n",
       "      <td>CA</td>\n",
       "      <td></td>\n",
       "      <td>1500 Champagne Montee, Laval QC H7X 4H9</td>\n",
       "      <td>Laval</td>\n",
       "      <td>[L'Orée des Bois]</td>\n",
       "      <td>H7X 4H9</td>\n",
       "      <td>QC</td>\n",
       "      <td>17</td>\n",
       "      <td>12</td>\n",
       "      <td>2</td>\n",
       "    </tr>\n",
       "    <tr>\n",
       "      <th>2</th>\n",
       "      <td>4cec2a8af9916dcbf1f56a35</td>\n",
       "      <td>Château Taillefer Lafon</td>\n",
       "      <td>0.969886</td>\n",
       "      <td>8.3</td>\n",
       "      <td>False</td>\n",
       "      <td>http://www.chateautailleferlafon.ca/</td>\n",
       "      <td>1500 Champagne Montee</td>\n",
       "      <td>CA</td>\n",
       "      <td></td>\n",
       "      <td>1500 Champagne Montee, Laval QC H7X 4H9</td>\n",
       "      <td>Laval</td>\n",
       "      <td>[L'Orée des Bois]</td>\n",
       "      <td>H7X 4H9</td>\n",
       "      <td>QC</td>\n",
       "      <td>17</td>\n",
       "      <td>12</td>\n",
       "      <td>2</td>\n",
       "    </tr>\n",
       "  </tbody>\n",
       "</table>\n",
       "</div>"
      ],
      "text/plain": [
       "                     fsq_id                     name  popularity  rating  \\\n",
       "0  4cec2a8af9916dcbf1f56a35  Château Taillefer Lafon    0.969886     8.3   \n",
       "1  4cec2a8af9916dcbf1f56a35  Château Taillefer Lafon    0.969886     8.3   \n",
       "2  4cec2a8af9916dcbf1f56a35  Château Taillefer Lafon    0.969886     8.3   \n",
       "\n",
       "   verified                               website       location.address  \\\n",
       "0     False  http://www.chateautailleferlafon.ca/  1500 Champagne Montee   \n",
       "1     False  http://www.chateautailleferlafon.ca/  1500 Champagne Montee   \n",
       "2     False  http://www.chateautailleferlafon.ca/  1500 Champagne Montee   \n",
       "\n",
       "  location.country location.cross_street  \\\n",
       "0               CA                         \n",
       "1               CA                         \n",
       "2               CA                         \n",
       "\n",
       "                location.formatted_address location.locality  \\\n",
       "0  1500 Champagne Montee, Laval QC H7X 4H9             Laval   \n",
       "1  1500 Champagne Montee, Laval QC H7X 4H9             Laval   \n",
       "2  1500 Champagne Montee, Laval QC H7X 4H9             Laval   \n",
       "\n",
       "  location.neighborhood location.postcode location.region  stats.total_photos  \\\n",
       "0     [L'Orée des Bois]           H7X 4H9              QC                  17   \n",
       "1     [L'Orée des Bois]           H7X 4H9              QC                  17   \n",
       "2     [L'Orée des Bois]           H7X 4H9              QC                  17   \n",
       "\n",
       "   stats.total_ratings  stats.total_tips  \n",
       "0                   12                 2  \n",
       "1                   12                 2  \n",
       "2                   12                 2  "
      ]
     },
     "execution_count": 78,
     "metadata": {},
     "output_type": "execute_result"
    }
   ],
   "source": [
    "data"
   ]
  },
  {
   "cell_type": "code",
   "execution_count": 19,
   "id": "92ed9d90-65a4-4c56-8f83-5182de8aca92",
   "metadata": {},
   "outputs": [
    {
     "data": {
      "text/plain": [
       "[{'fsq_id': '4cec2a8af9916dcbf1f56a35',\n",
       "  'location': {'address': '1500 Champagne Montee',\n",
       "   'country': 'CA',\n",
       "   'cross_street': '',\n",
       "   'formatted_address': '1500 Champagne Montee, Laval QC H7X 4H9',\n",
       "   'locality': 'Laval',\n",
       "   'neighborhood': [\"L'Orée des Bois\"],\n",
       "   'postcode': 'H7X 4H9',\n",
       "   'region': 'QC'},\n",
       "  'name': 'Château Taillefer Lafon',\n",
       "  'popularity': 0.969886055344547,\n",
       "  'rating': 8.3,\n",
       "  'stats': {'total_photos': 17, 'total_ratings': 12, 'total_tips': 2},\n",
       "  'website': 'http://www.chateautailleferlafon.ca/'},\n",
       " {'fsq_id': '4cec2a8af9916dcbf1f56a35',\n",
       "  'location': {'address': '1500 Champagne Montee',\n",
       "   'country': 'CA',\n",
       "   'cross_street': '',\n",
       "   'formatted_address': '1500 Champagne Montee, Laval QC H7X 4H9',\n",
       "   'locality': 'Laval',\n",
       "   'neighborhood': [\"L'Orée des Bois\"],\n",
       "   'postcode': 'H7X 4H9',\n",
       "   'region': 'QC'},\n",
       "  'name': 'Château Taillefer Lafon',\n",
       "  'popularity': 0.969886055344547,\n",
       "  'rating': 8.3,\n",
       "  'stats': {'total_photos': 17, 'total_ratings': 12, 'total_tips': 2},\n",
       "  'website': 'http://www.chateautailleferlafon.ca/'},\n",
       " {'fsq_id': '4cec2a8af9916dcbf1f56a35',\n",
       "  'location': {'address': '1500 Champagne Montee',\n",
       "   'country': 'CA',\n",
       "   'cross_street': '',\n",
       "   'formatted_address': '1500 Champagne Montee, Laval QC H7X 4H9',\n",
       "   'locality': 'Laval',\n",
       "   'neighborhood': [\"L'Orée des Bois\"],\n",
       "   'postcode': 'H7X 4H9',\n",
       "   'region': 'QC'},\n",
       "  'name': 'Château Taillefer Lafon',\n",
       "  'popularity': 0.969886055344547,\n",
       "  'rating': 8.3,\n",
       "  'stats': {'total_photos': 17, 'total_ratings': 12, 'total_tips': 2},\n",
       "  'website': 'http://www.chateautailleferlafon.ca/'}]"
      ]
     },
     "execution_count": 19,
     "metadata": {},
     "output_type": "execute_result"
    }
   ],
   "source": [
    "[result for result in r]"
   ]
  },
  {
   "cell_type": "code",
   "execution_count": 20,
   "id": "d6b893d1-9859-4b5d-a824-e0c8d3643a1d",
   "metadata": {},
   "outputs": [],
   "source": [
    "data_to_insert = [(str(result.get('fsq_id', None)), \n",
    "                      str(result.get('name', None)),\n",
    "                       float(result.get('popularity', None)),\n",
    "                        float(result.get('rating', None)),\n",
    "                         str(result.get('website', None)),\n",
    "                          str(result['location'].get('formatted_address', None)),\n",
    "                           int(result['stats'].get('total_ratings', None)))\n",
    "                               for result in r]\n",
    "       "
   ]
  },
  {
   "cell_type": "code",
   "execution_count": 38,
   "id": "0bf458b5-3996-4002-8af7-cc5872fb5b21",
   "metadata": {},
   "outputs": [],
   "source": [
    "query = ''\n",
    "for new_query in data_to_insert:\n",
    "    if new_query == data_to_insert[-1]:\n",
    "        query += str(new_query)\n",
    "    else:\n",
    "        query += str(new_query) + ','"
   ]
  },
  {
   "cell_type": "code",
   "execution_count": 40,
   "id": "72078c9b-8390-45ef-a338-832bef0a9c21",
   "metadata": {},
   "outputs": [
    {
     "name": "stdout",
     "output_type": "stream",
     "text": [
      "\n",
      "INSERT INTO\n",
      "  users (fsq_id, name, popularity, rating, website, formatted_address, total_ratings)\n",
      "VALUES\n",
      "    ('4cec2a8af9916dcbf1f56a35', 'Château Taillefer Lafon', 0.969886055344547, 8.3, 'http://www.chateautailleferlafon.ca/', '1500 Champagne Montee, Laval QC H7X 4H9', 12)('4cec2a8af9916dcbf1f56a35', 'Château Taillefer Lafon', 0.969886055344547, 8.3, 'http://www.chateautailleferlafon.ca/', '1500 Champagne Montee, Laval QC H7X 4H9', 12)('4cec2a8af9916dcbf1f56a35', 'Château Taillefer Lafon', 0.969886055344547, 8.3, 'http://www.chateautailleferlafon.ca/', '1500 Champagne Montee, Laval QC H7X 4H9', 12);\n",
      "\n",
      "\n"
     ]
    }
   ],
   "source": [
    "print(f\"\"\"\n",
    "INSERT INTO\n",
    "  users (fsq_id, name, popularity, rating, website, formatted_address, total_ratings)\n",
    "VALUES\n",
    "    {query};\n",
    "\n",
    "\"\"\")\n",
    "\n"
   ]
  },
  {
   "cell_type": "code",
   "execution_count": 31,
   "id": "4aa51b20-b317-4acf-81d9-f8275ba39479",
   "metadata": {},
   "outputs": [],
   "source": []
  },
  {
   "cell_type": "code",
   "execution_count": 32,
   "id": "c5806346-20fa-4295-8368-6ac00981404f",
   "metadata": {},
   "outputs": [
    {
     "data": {
      "text/plain": [
       "\"('4cec2a8af9916dcbf1f56a35', 'Château Taillefer Lafon', 0.969886055344547, 8.3, 'http://www.chateautailleferlafon.ca/', '1500 Champagne Montee, Laval QC H7X 4H9', 12)('4cec2a8af9916dcbf1f56a35', 'Château Taillefer Lafon', 0.969886055344547, 8.3, 'http://www.chateautailleferlafon.ca/', '1500 Champagne Montee, Laval QC H7X 4H9', 12)('4cec2a8af9916dcbf1f56a35', 'Château Taillefer Lafon', 0.969886055344547, 8.3, 'http://www.chateautailleferlafon.ca/', '1500 Champagne Montee, Laval QC H7X 4H9', 12)\""
      ]
     },
     "execution_count": 32,
     "metadata": {},
     "output_type": "execute_result"
    }
   ],
   "source": []
  },
  {
   "cell_type": "code",
   "execution_count": 26,
   "id": "8b613950-8206-43ba-a1fc-0252fa0cf6d9",
   "metadata": {},
   "outputs": [],
   "source": [
    "def yelp_it(url, params=None):\n",
    "    headers = {\n",
    "    'Access': 'application/json',\n",
    "    'Authorization': f'Bearer {YELP_API_KEY}',\n",
    "    }\n",
    "    params = params or {}\n",
    "    response = requests.get(url=url, params=params, headers=headers)\n",
    "    if response:\n",
    "        return response.json()\n",
    "    else:\n",
    "        return response"
   ]
  },
  {
   "cell_type": "code",
   "execution_count": 24,
   "id": "9f8fc4b8-347e-41b0-882e-028eb9b40cb4",
   "metadata": {},
   "outputs": [],
   "source": [
    "url = 'https://api.yelp.com/v3/businesses/search'\n",
    "params = {\n",
    "    'latitude': '45.502772',\n",
    "    'longitude': '-73.552406',\n",
    "    'limit': 50,\n",
    "    'radius': 1000,\n",
    "    'categories': 'cocktailbars',\n",
    "    'sort_by': 'rating',\n",
    "    \n",
    "    }\n",
    "response = yelp_it(url, params=params)"
   ]
  },
  {
   "cell_type": "code",
   "execution_count": 20,
   "id": "77bdd823-e60a-40de-b50f-df362bf2ca21",
   "metadata": {},
   "outputs": [
    {
     "data": {
      "text/plain": [
       "'https://api.yelp.com/v3/businesses/search?latitude=45.502772&longitude=-73.552406&limit=50&radius=1000&categories=cocktailbars&sort_by=rating'"
      ]
     },
     "execution_count": 20,
     "metadata": {},
     "output_type": "execute_result"
    }
   ],
   "source": [
    "response.url"
   ]
  },
  {
   "cell_type": "code",
   "execution_count": 22,
   "id": "15394785-bf90-4375-943d-01b85a08c7d8",
   "metadata": {},
   "outputs": [],
   "source": [
    "r = response.json()['businesses']\n",
    "ids_yelp = [result['id'] for result in r]"
   ]
  },
  {
   "cell_type": "code",
   "execution_count": 33,
   "id": "beba162b-c2cf-4d03-a98f-2e5ecb4d33fb",
   "metadata": {},
   "outputs": [],
   "source": [
    "ids_yelp = [result['id'] for result in r]"
   ]
  },
  {
   "cell_type": "code",
   "execution_count": null,
   "id": "f5d8e75d-7d86-4bf1-a28d-22c8c36668d9",
   "metadata": {},
   "outputs": [],
   "source": []
  },
  {
   "cell_type": "code",
   "execution_count": null,
   "id": "d65df7e5-a9f4-47bf-a84d-2c639eb1d683",
   "metadata": {},
   "outputs": [],
   "source": []
  },
  {
   "cell_type": "code",
   "execution_count": 47,
   "id": "7a150538-da3d-48ac-baf6-218c0637621d",
   "metadata": {},
   "outputs": [],
   "source": [
    "url = f'https://api.yelp.com/v3/businesses/BCSofuQwu1VE8wjzDaQ3qQ'\n",
    "\n",
    "res = yelp_it(url)"
   ]
  },
  {
   "cell_type": "code",
   "execution_count": 56,
   "id": "e1f891b4-2bca-41a2-9828-a533304f4614",
   "metadata": {},
   "outputs": [],
   "source": [
    "res = (res, res, res)\n",
    "# (fsq_id, name, popularity, rating, website, formatted_address, total_ratings)"
   ]
  },
  {
   "cell_type": "code",
   "execution_count": 57,
   "id": "4ee05c11-da5b-4d26-abe9-0d33ea40df67",
   "metadata": {},
   "outputs": [
    {
     "data": {
      "text/plain": [
       "tuple"
      ]
     },
     "execution_count": 57,
     "metadata": {},
     "output_type": "execute_result"
    }
   ],
   "source": [
    "type(res)"
   ]
  },
  {
   "cell_type": "code",
   "execution_count": 58,
   "id": "5a5b0564-518f-4f77-a2a1-8093411db9e7",
   "metadata": {},
   "outputs": [],
   "source": [
    "data_to_insert = [(result.get('id', None), \n",
    "                      result.get('name', None),\n",
    "                       result.get('rating', None),\n",
    "                        result.get('review_count', None),\n",
    "                         result.get('url', None),\n",
    "                          result.get('location', {}).get('display_address', None),\n",
    "                           result.get('price', None))\n",
    "                               for result in res]"
   ]
  },
  {
   "cell_type": "code",
   "execution_count": 59,
   "id": "7e8b1cc2-210e-4256-a1c2-fa62f5163bb8",
   "metadata": {},
   "outputs": [
    {
     "data": {
      "text/plain": [
       "('BCSofuQwu1VE8wjzDaQ3qQ',\n",
       " 'The Coldroom',\n",
       " 4.5,\n",
       " 207,\n",
       " 'https://www.yelp.com/biz/the-coldroom-montr%C3%A9al-2?adjust_creative=9i_-1YvTzQ430GyCdr-vpw&utm_campaign=yelp_api_v3&utm_medium=api_v3_business_lookup&utm_source=9i_-1YvTzQ430GyCdr-vpw',\n",
       " ['Rue Saint-Vincent', 'Montreal, QC H2Y 1G8', 'Canada'],\n",
       " '$$')"
      ]
     },
     "execution_count": 59,
     "metadata": {},
     "output_type": "execute_result"
    }
   ],
   "source": [
    "data_to_insert[0]"
   ]
  },
  {
   "cell_type": "code",
   "execution_count": 60,
   "id": "0cb3d298-0ad1-40bf-8c2c-48844bc64e6e",
   "metadata": {},
   "outputs": [],
   "source": [
    "data_to_insert = [(result.get('id', None), \n",
    "                      result.get('name', None),\n",
    "                       result.get('rating', None),\n",
    "                        result.get('review_count', None),\n",
    "                         result.get('url', None),\n",
    "                          result.get('location', {}).get('display_address', None),\n",
    "                           result.get('price', None))\n",
    "                               for result in r]"
   ]
  },
  {
   "cell_type": "code",
   "execution_count": 62,
   "id": "8244b4c5-13b9-4d61-8f6c-c007eeed493f",
   "metadata": {},
   "outputs": [
    {
     "data": {
      "text/plain": [
       "('BCSofuQwu1VE8wjzDaQ3qQ',\n",
       " 'The Coldroom',\n",
       " 4.5,\n",
       " 207,\n",
       " 'https://www.yelp.com/biz/the-coldroom-montr%C3%A9al-2?adjust_creative=9i_-1YvTzQ430GyCdr-vpw&utm_campaign=yelp_api_v3&utm_medium=api_v3_business_search&utm_source=9i_-1YvTzQ430GyCdr-vpw',\n",
       " ['Rue Saint-Vincent', 'Montreal, QC H2Y 1G8', 'Canada'],\n",
       " '$$')"
      ]
     },
     "execution_count": 62,
     "metadata": {},
     "output_type": "execute_result"
    }
   ],
   "source": [
    "data_to_insert[0]"
   ]
  },
  {
   "cell_type": "code",
   "execution_count": null,
   "id": "aeeac667-9cd6-4772-87e1-2aac29c181e8",
   "metadata": {},
   "outputs": [],
   "source": []
  }
 ],
 "metadata": {
  "kernelspec": {
   "display_name": "regular",
   "language": "python",
   "name": "regular"
  },
  "language_info": {
   "codemirror_mode": {
    "name": "ipython",
    "version": 3
   },
   "file_extension": ".py",
   "mimetype": "text/x-python",
   "name": "python",
   "nbconvert_exporter": "python",
   "pygments_lexer": "ipython3",
   "version": "3.9.12"
  }
 },
 "nbformat": 4,
 "nbformat_minor": 5
}
