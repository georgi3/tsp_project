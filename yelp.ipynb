{
 "cells": [
  {
   "cell_type": "code",
   "execution_count": 2,
   "id": "423ff6e2-bd3c-4c6d-8f9d-dccc558ff887",
   "metadata": {
    "pycharm": {
     "name": "#%%\n"
    }
   },
   "outputs": [],
   "source": [
    "from config import *\n",
    "from api_handler import *\n",
    "from db_handler import  *\n",
    "import pandas as pd"
   ]
  },
  {
   "cell_type": "markdown",
   "id": "c384cbe9-987e-479e-8b9c-4a743e01ff6f",
   "metadata": {
    "pycharm": {
     "name": "#%% md\n"
    }
   },
   "source": [
    "### Setting up endpoint"
   ]
  },
  {
   "cell_type": "code",
   "execution_count": 4,
   "id": "c2ee5eff-7c25-452a-a289-234b665af40e",
   "metadata": {
    "pycharm": {
     "name": "#%%\n"
    }
   },
   "outputs": [],
   "source": [
    "url = 'https://api.yelp.com/v3/businesses/search'\n",
    "headers = {\n",
    "    'Access': 'application/json',\n",
    "    'Authorization': f'Bearer {YELP_API_KEY}',\n",
    "}\n",
    "params = {\n",
    "    'latitude': LATITUDE_YELP,\n",
    "    'longitude': LONGITUDE_YELP,\n",
    "    'limit': LIMIT_YELP,\n",
    "    'radius': RADIUS_YELP,\n",
    "    'categories': CATEGORIES_YELP,\n",
    "    'sort_by': SORT_BY_YELP,\n",
    "    \n",
    "    }"
   ]
  },
  {
   "cell_type": "code",
   "execution_count": null,
   "outputs": [],
   "source": [
    "response = get_req(url, params=params, headers=headers)"
   ],
   "metadata": {
    "collapsed": false,
    "pycharm": {
     "name": "#%%\n"
    }
   }
  },
  {
   "cell_type": "markdown",
   "id": "62d1a9b0-a577-4c02-944f-837b8bbfdc46",
   "metadata": {
    "pycharm": {
     "name": "#%% md\n"
    }
   },
   "source": [
    "### Preparing data to insert into DB"
   ]
  },
  {
   "cell_type": "code",
   "execution_count": 53,
   "id": "e5ef7553-060b-420b-968b-377cdb14f808",
   "metadata": {
    "pycharm": {
     "name": "#%%\n"
    }
   },
   "outputs": [],
   "source": [
    "data_to_insert = [(result.get('id', None), \n",
    "                      result.get('name', None),\n",
    "                       result.get('rating', None),\n",
    "                        result.get('review_count', None),\n",
    "                         result.get('url', None),\n",
    "                          ' '.join(result.get('location', {}).get('display_address', '')))\n",
    "                               for result in response['businesses']]"
   ]
  },
  {
   "cell_type": "code",
   "execution_count": 55,
   "id": "5df3e511-b59f-48a8-bca6-8d3f312f7b28",
   "metadata": {
    "pycharm": {
     "name": "#%%\n"
    }
   },
   "outputs": [],
   "source": [
    "rows_to_insert = ''\n",
    "for new_query in data_to_insert:\n",
    "    if new_query == data_to_insert[-1]:\n",
    "        rows_to_insert += str(new_query)\n",
    "    else:\n",
    "        rows_to_insert += str(new_query) + ','"
   ]
  },
  {
   "cell_type": "markdown",
   "id": "547b9fd9-20d6-4c95-ac95-b112e53887d3",
   "metadata": {
    "pycharm": {
     "name": "#%% md\n"
    }
   },
   "source": [
    "### Creating Tables & Inserting Data"
   ]
  },
  {
   "cell_type": "code",
   "execution_count": 3,
   "id": "47069e17-3a9b-4f21-9ed1-7658e32a26e0",
   "metadata": {
    "pycharm": {
     "name": "#%%\n"
    }
   },
   "outputs": [],
   "source": [
    "connection = create_connection(\"./data/yelp_coctail_spots.sqlite\")"
   ]
  },
  {
   "cell_type": "code",
   "execution_count": 4,
   "id": "a31451b2-aac6-462d-b7a6-450acfb3d81e",
   "metadata": {
    "pycharm": {
     "name": "#%%\n"
    }
   },
   "outputs": [],
   "source": [
    "create__table = \"\"\"\n",
    "CREATE TABLE IF NOT EXISTS yelp_coctail_spots (\n",
    "  PK_ID INTEGER PRIMARY KEY AUTOINCREMENT,\n",
    "  id TEXT NOT NULL,\n",
    "  name TEXT NOT NULL,\n",
    "  rating REAL,\n",
    "  url TEXT,\n",
    "  location TEXT,\n",
    "  review_count INTEGER\n",
    ");\n",
    "\"\"\""
   ]
  },
  {
   "cell_type": "code",
   "execution_count": 5,
   "id": "c22334be-1593-470c-8798-1804e9b5485b",
   "metadata": {
    "pycharm": {
     "name": "#%%\n"
    }
   },
   "outputs": [],
   "source": [
    "execute_query(connection, create__table)"
   ]
  },
  {
   "cell_type": "code",
   "execution_count": 67,
   "id": "c192cdec-4a49-4dac-b553-66bef8a85a01",
   "metadata": {
    "pycharm": {
     "name": "#%%\n"
    }
   },
   "outputs": [],
   "source": [
    "create_spots = f\"\"\"\n",
    "INSERT INTO\n",
    "  yelp_coctail_spots (id, name, rating, url, location, review_count)\n",
    "VALUES\n",
    "    {rows_to_insert};\n",
    "\"\"\""
   ]
  },
  {
   "cell_type": "code",
   "execution_count": 70,
   "id": "cd3d992e-bfc6-4e83-846e-f4bd0e47ace8",
   "metadata": {
    "pycharm": {
     "name": "#%%\n"
    }
   },
   "outputs": [],
   "source": [
    "execute_query(connection, create_spots)"
   ]
  },
  {
   "cell_type": "markdown",
   "id": "5503e42c-6280-4b50-b075-213a41998f1e",
   "metadata": {
    "pycharm": {
     "name": "#%% md\n"
    }
   },
   "source": [
    "### Requesting DB"
   ]
  },
  {
   "cell_type": "code",
   "execution_count": 7,
   "id": "bd1d9ac6-bc3f-4379-b14b-e80242199d40",
   "metadata": {
    "pycharm": {
     "name": "#%%\n"
    }
   },
   "outputs": [],
   "source": [
    "select_coctail_spots = \"SELECT * from yelp_coctail_spots\"\n",
    "coctail_spots = execute_read_query(connection, select_coctail_spots)"
   ]
  },
  {
   "cell_type": "code",
   "execution_count": 16,
   "id": "f0eea441-6697-4fa4-89c4-a80a2d93e83d",
   "metadata": {
    "pycharm": {
     "name": "#%%\n"
    }
   },
   "outputs": [],
   "source": [
    "df = pd.DataFrame(coctail_spots, \n",
    "                  columns=['PKID','id', 'name', 'rating', 'review_count', 'url', 'location'])"
   ]
  },
  {
   "cell_type": "code",
   "execution_count": 17,
   "outputs": [],
   "source": [
    "df = df[['name', 'rating', 'location']]"
   ],
   "metadata": {
    "collapsed": false,
    "pycharm": {
     "name": "#%%\n"
    }
   }
  },
  {
   "cell_type": "code",
   "execution_count": 18,
   "outputs": [
    {
     "data": {
      "text/plain": "'<table border=\"1\" class=\"dataframe\">\\n  <thead>\\n    <tr style=\"text-align: right;\">\\n      <th></th>\\n      <th>name</th>\\n      <th>rating</th>\\n      <th>location</th>\\n    </tr>\\n  </thead>\\n  <tbody>\\n    <tr>\\n      <th>28</th>\\n      <td>Le Speakeasy</td>\\n      <td>5.0</td>\\n      <td>120 Rue McGill Montreal, QC H2Y 2E5 Canada</td>\\n    </tr>\\n    <tr>\\n      <th>27</th>\\n      <td>Terrasse W</td>\\n      <td>5.0</td>\\n      <td>901 Rue du Square-Victoria Montreal, QC H2Z 1R1 Canada</td>\\n    </tr>\\n    <tr>\\n      <th>26</th>\\n      <td>Terrasse des Sucres</td>\\n      <td>5.0</td>\\n      <td>106 Rue Saint-Paul O 5th Floor Montreal, QC H2Y 1Z3 Canada</td>\\n    </tr>\\n    <tr>\\n      <th>25</th>\\n      <td>Notkins</td>\\n      <td>5.0</td>\\n      <td>1101 Rue de Bleury Montreal, QC H2Z 1N1 Canada</td>\\n    </tr>\\n    <tr>\\n      <th>24</th>\\n      <td>La Croisette</td>\\n      <td>5.0</td>\\n      <td>2 Rue de la Commune O Montreal, QC H2Y 4B2 Canada</td>\\n    </tr>\\n    <tr>\\n      <th>19</th>\\n      <td>Pincette</td>\\n      <td>5.0</td>\\n      <td>94 Rue Saint Paul E Montreal, QC H2Y 1G6 Canada</td>\\n    </tr>\\n    <tr>\\n      <th>17</th>\\n      <td>Buvette Pastek</td>\\n      <td>5.0</td>\\n      <td>209 Rue Saint-Paul O Montreal, QC H2Y 2A1 Canada</td>\\n    </tr>\\n    <tr>\\n      <th>0</th>\\n      <td>The Coldroom</td>\\n      <td>4.5</td>\\n      <td>Rue Saint-Vincent Montreal, QC H2Y 1G8 Canada</td>\\n    </tr>\\n    <tr>\\n      <th>1</th>\\n      <td>Barroco</td>\\n      <td>4.5</td>\\n      <td>312 Rue Saint-Paul O Montreal, QC H2Y 2A3 Canada</td>\\n    </tr>\\n    <tr>\\n      <th>4</th>\\n      <td>El Pequeño Bar</td>\\n      <td>4.5</td>\\n      <td>401A Rue Saint-Vincent Montreal, QC H2Y 3A4 Canada</td>\\n    </tr>\\n  </tbody>\\n</table>'"
     },
     "execution_count": 18,
     "metadata": {},
     "output_type": "execute_result"
    }
   ],
   "source": [
    "df.sort_values('rating', ascending=False).head(10).to_html()"
   ],
   "metadata": {
    "collapsed": false,
    "pycharm": {
     "name": "#%%\n"
    }
   }
  },
  {
   "cell_type": "code",
   "execution_count": null,
   "outputs": [],
   "source": [],
   "metadata": {
    "collapsed": false,
    "pycharm": {
     "name": "#%%\n"
    }
   }
  }
 ],
 "metadata": {
  "kernelspec": {
   "display_name": "regular",
   "language": "python",
   "name": "regular"
  },
  "language_info": {
   "codemirror_mode": {
    "name": "ipython",
    "version": 3
   },
   "file_extension": ".py",
   "mimetype": "text/x-python",
   "name": "python",
   "nbconvert_exporter": "python",
   "pygments_lexer": "ipython3",
   "version": "3.9.12"
  }
 },
 "nbformat": 4,
 "nbformat_minor": 5
}