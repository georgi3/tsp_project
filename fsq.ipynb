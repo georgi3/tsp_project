{
 "cells": [
  {
   "cell_type": "code",
   "execution_count": 1,
   "id": "423ff6e2-bd3c-4c6d-8f9d-dccc558ff887",
   "metadata": {
    "pycharm": {
     "name": "#%%\n"
    }
   },
   "outputs": [],
   "source": [
    "import pandas as pd\n",
    "from config import *\n",
    "from db_handler import *\n",
    "from api_handler import *"
   ]
  },
  {
   "cell_type": "markdown",
   "id": "c384cbe9-987e-479e-8b9c-4a743e01ff6f",
   "metadata": {
    "pycharm": {
     "name": "#%% md\n"
    }
   },
   "source": [
    "### Setting up endpoint"
   ]
  },
  {
   "cell_type": "code",
   "execution_count": 43,
   "id": "c2ee5eff-7c25-452a-a289-234b665af40e",
   "metadata": {
    "pycharm": {
     "name": "#%%\n"
    }
   },
   "outputs": [],
   "source": [
    "headers = {\n",
    "    'Access': 'application/json',\n",
    "    'Authorization': FSQ_API_KEY,\n",
    "}\n",
    "params = {\n",
    "    'ne': NE_FSQ,\n",
    "    'sw': SW_FSQ,\n",
    "    'categories': CATEGORY_FSQ,\n",
    "    'limit': LIMIT_FSQ,\n",
    "    'sort': SORT_FSQ\n",
    "}\n",
    "url = 'https://api.foursquare.com/v3/places/search?'"
   ]
  },
  {
   "cell_type": "code",
   "execution_count": 44,
   "id": "198d110c-274a-49e4-ba76-973b33c8fc21",
   "metadata": {
    "pycharm": {
     "name": "#%%\n"
    }
   },
   "outputs": [],
   "source": [
    "response = get_req(url, params=params, headers=headers)"
   ]
  },
  {
   "cell_type": "code",
   "execution_count": 45,
   "id": "ff67db23-cca8-4e71-b3ba-54fa1c03a640",
   "metadata": {
    "pycharm": {
     "name": "#%%\n"
    }
   },
   "outputs": [],
   "source": [
    "fsq_ids_fsq = [result['fsq_id'] for result in response['results']]  # ids of the restaurants"
   ]
  },
  {
   "cell_type": "code",
   "execution_count": 46,
   "id": "2787ddc1-f60f-4aa6-9e6d-80e4d2b66680",
   "metadata": {
    "pycharm": {
     "name": "#%%\n"
    }
   },
   "outputs": [],
   "source": [
    "params = {\n",
    "    'fields': POI_RICH_DATA_FSQ\n",
    "}\n",
    "urls = [f\"https://api.foursquare.com/v3/places/{id}\" for id in fsq_ids_fsq]"
   ]
  },
  {
   "cell_type": "code",
   "execution_count": 47,
   "id": "10a31d01-a2b0-4d10-80cf-9858b6c53bb5",
   "metadata": {
    "pycharm": {
     "name": "#%%\n"
    }
   },
   "outputs": [],
   "source": [
    "json_responses = [get_req(url, params, FSQ_API_KEY) for url in urls]"
   ]
  },
  {
   "cell_type": "code",
   "execution_count": 49,
   "id": "9a55354c-7f5f-4721-84f8-8163b9b2de1a",
   "metadata": {
    "pycharm": {
     "name": "#%%\n"
    }
   },
   "outputs": [
    {
     "data": {
      "text/plain": [
       "15"
      ]
     },
     "execution_count": 49,
     "metadata": {},
     "output_type": "execute_result"
    }
   ],
   "source": [
    "len(json_responses)"
   ]
  },
  {
   "cell_type": "markdown",
   "id": "62d1a9b0-a577-4c02-944f-837b8bbfdc46",
   "metadata": {
    "pycharm": {
     "name": "#%% md\n"
    }
   },
   "source": [
    "### Preparing data to insert into DB"
   ]
  },
  {
   "cell_type": "code",
   "execution_count": 66,
   "id": "e5ef7553-060b-420b-968b-377cdb14f808",
   "metadata": {
    "pycharm": {
     "name": "#%%\n"
    }
   },
   "outputs": [],
   "source": [
    "data_to_insert = [(result.get('fsq_id', None), \n",
    "                      result.get('name', None),\n",
    "                       result.get('popularity', None),\n",
    "                        result.get('rating', None),\n",
    "                         result.get('website', None),\n",
    "                          result.get('location', {}).get('formatted_address', None),\n",
    "                           result.get('stats',{}).get('total_ratings', 0))\n",
    "                               for result in json_responses]"
   ]
  },
  {
   "cell_type": "code",
   "execution_count": 51,
   "id": "5df3e511-b59f-48a8-bca6-8d3f312f7b28",
   "metadata": {
    "pycharm": {
     "name": "#%%\n"
    }
   },
   "outputs": [],
   "source": [
    "rows_to_insert = ''\n",
    "for new_query in data_to_insert:\n",
    "    if new_query == data_to_insert[-1]:\n",
    "        rows_to_insert += str(new_query)\n",
    "    else:\n",
    "        rows_to_insert += str(new_query) + ','"
   ]
  },
  {
   "cell_type": "markdown",
   "id": "0117e3e4-4891-4524-8479-7a4fd5d86918",
   "metadata": {
    "pycharm": {
     "name": "#%% md\n"
    }
   },
   "source": [
    "### Setting up SQLite table"
   ]
  },
  {
   "cell_type": "markdown",
   "id": "547b9fd9-20d6-4c95-ac95-b112e53887d3",
   "metadata": {
    "pycharm": {
     "name": "#%% md\n"
    }
   },
   "source": [
    "### Creating Tables & Inserting Data"
   ]
  },
  {
   "cell_type": "code",
   "execution_count": 2,
   "id": "47069e17-3a9b-4f21-9ed1-7658e32a26e0",
   "metadata": {
    "pycharm": {
     "name": "#%%\n"
    }
   },
   "outputs": [],
   "source": [
    "connection = create_connection(\"./data/coctail_spots_old_port.sqlite\")"
   ]
  },
  {
   "cell_type": "code",
   "execution_count": 3,
   "id": "a31451b2-aac6-462d-b7a6-450acfb3d81e",
   "metadata": {
    "pycharm": {
     "name": "#%%\n"
    }
   },
   "outputs": [],
   "source": [
    "create__table = \"\"\"\n",
    "CREATE TABLE IF NOT EXISTS coctail_spots_old_port (\n",
    "  id INTEGER PRIMARY KEY AUTOINCREMENT,\n",
    "  fsq_id TEXT NOT NULL,\n",
    "  name TEXT NOT NULL,\n",
    "  popularity REAL,\n",
    "  rating REAL,\n",
    "  website TEXT,\n",
    "  formatted_address TEXT,\n",
    "  total_ratings INTEGER\n",
    ");\n",
    "\"\"\""
   ]
  },
  {
   "cell_type": "code",
   "execution_count": 4,
   "id": "c22334be-1593-470c-8798-1804e9b5485b",
   "metadata": {
    "pycharm": {
     "name": "#%%\n"
    }
   },
   "outputs": [],
   "source": [
    "execute_query(connection, create__table)"
   ]
  },
  {
   "cell_type": "code",
   "execution_count": 58,
   "id": "c192cdec-4a49-4dac-b553-66bef8a85a01",
   "metadata": {
    "pycharm": {
     "name": "#%%\n"
    }
   },
   "outputs": [],
   "source": [
    "create_spots = f\"\"\"\n",
    "INSERT INTO\n",
    "  coctail_spots_old_port (fsq_id, name, popularity, rating, website, formatted_address, total_ratings)\n",
    "VALUES\n",
    "    {rows_to_insert};\n",
    "\"\"\""
   ]
  },
  {
   "cell_type": "code",
   "execution_count": 59,
   "id": "cd3d992e-bfc6-4e83-846e-f4bd0e47ace8",
   "metadata": {
    "pycharm": {
     "name": "#%%\n"
    }
   },
   "outputs": [],
   "source": [
    "execute_query(connection, create_spots)"
   ]
  },
  {
   "cell_type": "markdown",
   "id": "5503e42c-6280-4b50-b075-213a41998f1e",
   "metadata": {
    "pycharm": {
     "name": "#%% md\n"
    }
   },
   "source": [
    "### Requesting DB"
   ]
  },
  {
   "cell_type": "code",
   "execution_count": 5,
   "id": "bd1d9ac6-bc3f-4379-b14b-e80242199d40",
   "metadata": {
    "pycharm": {
     "name": "#%%\n"
    }
   },
   "outputs": [],
   "source": [
    "select_coctail_spots = \"SELECT * from coctail_spots_old_port\"\n",
    "coctail_spots = execute_read_query(connection, select_coctail_spots)"
   ]
  },
  {
   "cell_type": "code",
   "execution_count": 6,
   "id": "f0eea441-6697-4fa4-89c4-a80a2d93e83d",
   "metadata": {
    "pycharm": {
     "name": "#%%\n"
    }
   },
   "outputs": [],
   "source": [
    "df = pd.DataFrame(coctail_spots, \n",
    "                  columns=['ID','fsq_id', 'name', 'popularity', 'rating',\n",
    "                           'website', 'formatted_address', 'total_ratings'])"
   ]
  },
  {
   "cell_type": "code",
   "execution_count": 10,
   "id": "a15c1ff7-bc79-4cd3-a6f7-d7b7801e8f14",
   "metadata": {
    "pycharm": {
     "name": "#%%\n"
    }
   },
   "outputs": [
    {
     "data": {
      "text/plain": "'<table border=\"1\" class=\"dataframe\">\\n  <thead>\\n    <tr style=\"text-align: right;\">\\n      <th></th>\\n      <th>name</th>\\n      <th>rating</th>\\n      <th>formatted_address</th>\\n    </tr>\\n  </thead>\\n  <tbody>\\n    <tr>\\n      <th>0</th>\\n      <td>Bar le Mal Nécessaire</td>\\n      <td>8.5</td>\\n      <td>1106B Saint Laurent Blvd (coin René-Lévesque), Montréal QC H2Z 1J5</td>\\n    </tr>\\n    <tr>\\n      <th>1</th>\\n      <td>Lab Quartier des Spectacles</td>\\n      <td>8.5</td>\\n      <td>279 Sainte-Catherine Rue E (coin Sanguinet), Montréal QC H2X 1L5</td>\\n    </tr>\\n    <tr>\\n      <th>2</th>\\n      <td>Boho</td>\\n      <td>8.3</td>\\n      <td>436 Saint-Francois-Xavier Rue, Montréal QC H2Y 2T3</td>\\n    </tr>\\n    <tr>\\n      <th>3</th>\\n      <td>Club Pelicano</td>\\n      <td>7.9</td>\\n      <td>1076 Rue de Bleury, Montréal QC H2Z 1N2</td>\\n    </tr>\\n    <tr>\\n      <th>4</th>\\n      <td>Bord\\'Elle</td>\\n      <td>7.8</td>\\n      <td>390 Saint-Jacques Rue, Montréal QC H2Y 1S1</td>\\n    </tr>\\n    <tr>\\n      <th>5</th>\\n      <td>Bob\\'s Cafe</td>\\n      <td>7.3</td>\\n      <td>644 Notre-Dame Rue O, Montréal QC H3C 1J2</td>\\n    </tr>\\n    <tr>\\n      <th>6</th>\\n      <td>L\\'Assommoir Notre-Dame</td>\\n      <td>6.8</td>\\n      <td>211 Notre-Dame Rue O (coin Saint-François-Xavier), Montréal QC H2Y 1T4</td>\\n    </tr>\\n    <tr>\\n      <th>7</th>\\n      <td>Cafe Equitasse</td>\\n      <td>5.8</td>\\n      <td>150 Notre-Dame Rue E (coin St-Vincent), Montréal QC H2Y 1C2</td>\\n    </tr>\\n    <tr>\\n      <th>8</th>\\n      <td>El Pequeno Bar</td>\\n      <td>0.0</td>\\n      <td>401A Saint Vincent Rue (Rue St. Amable), Montréal QC H2Y 3A4</td>\\n    </tr>\\n    <tr>\\n      <th>9</th>\\n      <td>Aruba</td>\\n      <td>0.0</td>\\n      <td>208 Saint Antoine Rue O (Saint Francois Xavier), Montréal QC H2Y 0A6</td>\\n    </tr>\\n  </tbody>\\n</table>'"
     },
     "execution_count": 10,
     "metadata": {},
     "output_type": "execute_result"
    }
   ],
   "source": [
    "df[['name', 'rating', 'formatted_address']].sort_values('rating', ascending=False).head(10).to_html()"
   ]
  },
  {
   "cell_type": "code",
   "execution_count": null,
   "id": "1ca01d6c-5066-4115-96ee-efb5d4076c62",
   "metadata": {
    "pycharm": {
     "name": "#%%\n"
    }
   },
   "outputs": [],
   "source": []
  }
 ],
 "metadata": {
  "kernelspec": {
   "display_name": "regular",
   "language": "python",
   "name": "regular"
  },
  "language_info": {
   "codemirror_mode": {
    "name": "ipython",
    "version": 3
   },
   "file_extension": ".py",
   "mimetype": "text/x-python",
   "name": "python",
   "nbconvert_exporter": "python",
   "pygments_lexer": "ipython3",
   "version": "3.9.12"
  }
 },
 "nbformat": 4,
 "nbformat_minor": 5
}